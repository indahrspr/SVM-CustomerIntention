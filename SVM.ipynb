{
  "nbformat": 4,
  "nbformat_minor": 0,
  "metadata": {
    "colab": {
      "name": "PLDS - SVM Method.ipynb",
      "provenance": []
    },
    "kernelspec": {
      "name": "python3",
      "display_name": "Python 3"
    },
    "language_info": {
      "name": "python"
    }
  },
  "cells": [
    {
      "cell_type": "markdown",
      "source": [
        "# **Classification Analysis Using the SVM Algorithm Method**\n",
        "\n",
        "> **Case: Online Shopper Purchasing Intention**\n",
        "\n",
        "> **Table of Contents:**\n",
        "\n",
        "\n",
        "1.   Data preparation\n",
        "2.   Descriptive analysis\n",
        "3.   Separating features and labels\n",
        "4.   Splitting dataset into training set and testing set\n",
        "5.   Performing SVM using kernel\n",
        "6.   Performing SVM by taking K-Folds Cross Validation\n",
        "7.   Performing SVM by taking parameters\n",
        "8.   Confusion matrix\n",
        "\n",
        "\n"
      ],
      "metadata": {
        "id": "Ce68S7ZeG6mA"
      }
    },
    {
      "cell_type": "markdown",
      "source": [
        "## **1. Data preparation**"
      ],
      "metadata": {
        "id": "fX4s6wqbHBp0"
      }
    },
    {
      "cell_type": "code",
      "execution_count": null,
      "metadata": {
        "id": "I1mnxQ7Be_3m"
      },
      "outputs": [],
      "source": [
        "# Import libraries\n",
        "import numpy as np # linear algebra\n",
        "import pandas as pd # data processing, CSV file I/O (e.g. pd.read_csv)\n",
        "import matplotlib.pyplot as plt # for data visualization\n",
        "import seaborn as sns # for statistical data visualization\n",
        "%matplotlib inline"
      ]
    },
    {
      "cell_type": "code",
      "source": [
        "# Import dataset\n",
        "df = pd.read_csv(\"/content/online_shoppers_intention.csv\")\n",
        "df.head()"
      ],
      "metadata": {
        "colab": {
          "base_uri": "https://localhost:8080/",
          "height": 270
        },
        "id": "xkbuS0IggUI_",
        "outputId": "1016df39-8da6-4e9a-f9fb-15b393de69b9"
      },
      "execution_count": null,
      "outputs": [
        {
          "output_type": "execute_result",
          "data": {
            "text/plain": [
              "   Administrative  Administrative_Duration  Informational  \\\n",
              "0               0                      0.0              0   \n",
              "1               0                      0.0              0   \n",
              "2               0                      0.0              0   \n",
              "3               0                      0.0              0   \n",
              "4               0                      0.0              0   \n",
              "\n",
              "   Informational_Duration  ProductRelated  ProductRelated_Duration  \\\n",
              "0                     0.0               1                 0.000000   \n",
              "1                     0.0               2                64.000000   \n",
              "2                     0.0               1                 0.000000   \n",
              "3                     0.0               2                 2.666667   \n",
              "4                     0.0              10               627.500000   \n",
              "\n",
              "   BounceRates  ExitRates  PageValues  SpecialDay Month  OperatingSystems  \\\n",
              "0         0.20       0.20         0.0         0.0   Feb                 1   \n",
              "1         0.00       0.10         0.0         0.0   Feb                 2   \n",
              "2         0.20       0.20         0.0         0.0   Feb                 4   \n",
              "3         0.05       0.14         0.0         0.0   Feb                 3   \n",
              "4         0.02       0.05         0.0         0.0   Feb                 3   \n",
              "\n",
              "   Browser  Region  TrafficType        VisitorType  Weekend  Revenue  \n",
              "0        1       1            1  Returning_Visitor    False    False  \n",
              "1        2       1            2  Returning_Visitor    False    False  \n",
              "2        1       9            3  Returning_Visitor    False    False  \n",
              "3        2       2            4  Returning_Visitor    False    False  \n",
              "4        3       1            4  Returning_Visitor     True    False  "
            ],
            "text/html": [
              "\n",
              "  <div id=\"df-72c44c5e-005f-4858-9287-655d37c0224f\">\n",
              "    <div class=\"colab-df-container\">\n",
              "      <div>\n",
              "<style scoped>\n",
              "    .dataframe tbody tr th:only-of-type {\n",
              "        vertical-align: middle;\n",
              "    }\n",
              "\n",
              "    .dataframe tbody tr th {\n",
              "        vertical-align: top;\n",
              "    }\n",
              "\n",
              "    .dataframe thead th {\n",
              "        text-align: right;\n",
              "    }\n",
              "</style>\n",
              "<table border=\"1\" class=\"dataframe\">\n",
              "  <thead>\n",
              "    <tr style=\"text-align: right;\">\n",
              "      <th></th>\n",
              "      <th>Administrative</th>\n",
              "      <th>Administrative_Duration</th>\n",
              "      <th>Informational</th>\n",
              "      <th>Informational_Duration</th>\n",
              "      <th>ProductRelated</th>\n",
              "      <th>ProductRelated_Duration</th>\n",
              "      <th>BounceRates</th>\n",
              "      <th>ExitRates</th>\n",
              "      <th>PageValues</th>\n",
              "      <th>SpecialDay</th>\n",
              "      <th>Month</th>\n",
              "      <th>OperatingSystems</th>\n",
              "      <th>Browser</th>\n",
              "      <th>Region</th>\n",
              "      <th>TrafficType</th>\n",
              "      <th>VisitorType</th>\n",
              "      <th>Weekend</th>\n",
              "      <th>Revenue</th>\n",
              "    </tr>\n",
              "  </thead>\n",
              "  <tbody>\n",
              "    <tr>\n",
              "      <th>0</th>\n",
              "      <td>0</td>\n",
              "      <td>0.0</td>\n",
              "      <td>0</td>\n",
              "      <td>0.0</td>\n",
              "      <td>1</td>\n",
              "      <td>0.000000</td>\n",
              "      <td>0.20</td>\n",
              "      <td>0.20</td>\n",
              "      <td>0.0</td>\n",
              "      <td>0.0</td>\n",
              "      <td>Feb</td>\n",
              "      <td>1</td>\n",
              "      <td>1</td>\n",
              "      <td>1</td>\n",
              "      <td>1</td>\n",
              "      <td>Returning_Visitor</td>\n",
              "      <td>False</td>\n",
              "      <td>False</td>\n",
              "    </tr>\n",
              "    <tr>\n",
              "      <th>1</th>\n",
              "      <td>0</td>\n",
              "      <td>0.0</td>\n",
              "      <td>0</td>\n",
              "      <td>0.0</td>\n",
              "      <td>2</td>\n",
              "      <td>64.000000</td>\n",
              "      <td>0.00</td>\n",
              "      <td>0.10</td>\n",
              "      <td>0.0</td>\n",
              "      <td>0.0</td>\n",
              "      <td>Feb</td>\n",
              "      <td>2</td>\n",
              "      <td>2</td>\n",
              "      <td>1</td>\n",
              "      <td>2</td>\n",
              "      <td>Returning_Visitor</td>\n",
              "      <td>False</td>\n",
              "      <td>False</td>\n",
              "    </tr>\n",
              "    <tr>\n",
              "      <th>2</th>\n",
              "      <td>0</td>\n",
              "      <td>0.0</td>\n",
              "      <td>0</td>\n",
              "      <td>0.0</td>\n",
              "      <td>1</td>\n",
              "      <td>0.000000</td>\n",
              "      <td>0.20</td>\n",
              "      <td>0.20</td>\n",
              "      <td>0.0</td>\n",
              "      <td>0.0</td>\n",
              "      <td>Feb</td>\n",
              "      <td>4</td>\n",
              "      <td>1</td>\n",
              "      <td>9</td>\n",
              "      <td>3</td>\n",
              "      <td>Returning_Visitor</td>\n",
              "      <td>False</td>\n",
              "      <td>False</td>\n",
              "    </tr>\n",
              "    <tr>\n",
              "      <th>3</th>\n",
              "      <td>0</td>\n",
              "      <td>0.0</td>\n",
              "      <td>0</td>\n",
              "      <td>0.0</td>\n",
              "      <td>2</td>\n",
              "      <td>2.666667</td>\n",
              "      <td>0.05</td>\n",
              "      <td>0.14</td>\n",
              "      <td>0.0</td>\n",
              "      <td>0.0</td>\n",
              "      <td>Feb</td>\n",
              "      <td>3</td>\n",
              "      <td>2</td>\n",
              "      <td>2</td>\n",
              "      <td>4</td>\n",
              "      <td>Returning_Visitor</td>\n",
              "      <td>False</td>\n",
              "      <td>False</td>\n",
              "    </tr>\n",
              "    <tr>\n",
              "      <th>4</th>\n",
              "      <td>0</td>\n",
              "      <td>0.0</td>\n",
              "      <td>0</td>\n",
              "      <td>0.0</td>\n",
              "      <td>10</td>\n",
              "      <td>627.500000</td>\n",
              "      <td>0.02</td>\n",
              "      <td>0.05</td>\n",
              "      <td>0.0</td>\n",
              "      <td>0.0</td>\n",
              "      <td>Feb</td>\n",
              "      <td>3</td>\n",
              "      <td>3</td>\n",
              "      <td>1</td>\n",
              "      <td>4</td>\n",
              "      <td>Returning_Visitor</td>\n",
              "      <td>True</td>\n",
              "      <td>False</td>\n",
              "    </tr>\n",
              "  </tbody>\n",
              "</table>\n",
              "</div>\n",
              "      <button class=\"colab-df-convert\" onclick=\"convertToInteractive('df-72c44c5e-005f-4858-9287-655d37c0224f')\"\n",
              "              title=\"Convert this dataframe to an interactive table.\"\n",
              "              style=\"display:none;\">\n",
              "        \n",
              "  <svg xmlns=\"http://www.w3.org/2000/svg\" height=\"24px\"viewBox=\"0 0 24 24\"\n",
              "       width=\"24px\">\n",
              "    <path d=\"M0 0h24v24H0V0z\" fill=\"none\"/>\n",
              "    <path d=\"M18.56 5.44l.94 2.06.94-2.06 2.06-.94-2.06-.94-.94-2.06-.94 2.06-2.06.94zm-11 1L8.5 8.5l.94-2.06 2.06-.94-2.06-.94L8.5 2.5l-.94 2.06-2.06.94zm10 10l.94 2.06.94-2.06 2.06-.94-2.06-.94-.94-2.06-.94 2.06-2.06.94z\"/><path d=\"M17.41 7.96l-1.37-1.37c-.4-.4-.92-.59-1.43-.59-.52 0-1.04.2-1.43.59L10.3 9.45l-7.72 7.72c-.78.78-.78 2.05 0 2.83L4 21.41c.39.39.9.59 1.41.59.51 0 1.02-.2 1.41-.59l7.78-7.78 2.81-2.81c.8-.78.8-2.07 0-2.86zM5.41 20L4 18.59l7.72-7.72 1.47 1.35L5.41 20z\"/>\n",
              "  </svg>\n",
              "      </button>\n",
              "      \n",
              "  <style>\n",
              "    .colab-df-container {\n",
              "      display:flex;\n",
              "      flex-wrap:wrap;\n",
              "      gap: 12px;\n",
              "    }\n",
              "\n",
              "    .colab-df-convert {\n",
              "      background-color: #E8F0FE;\n",
              "      border: none;\n",
              "      border-radius: 50%;\n",
              "      cursor: pointer;\n",
              "      display: none;\n",
              "      fill: #1967D2;\n",
              "      height: 32px;\n",
              "      padding: 0 0 0 0;\n",
              "      width: 32px;\n",
              "    }\n",
              "\n",
              "    .colab-df-convert:hover {\n",
              "      background-color: #E2EBFA;\n",
              "      box-shadow: 0px 1px 2px rgba(60, 64, 67, 0.3), 0px 1px 3px 1px rgba(60, 64, 67, 0.15);\n",
              "      fill: #174EA6;\n",
              "    }\n",
              "\n",
              "    [theme=dark] .colab-df-convert {\n",
              "      background-color: #3B4455;\n",
              "      fill: #D2E3FC;\n",
              "    }\n",
              "\n",
              "    [theme=dark] .colab-df-convert:hover {\n",
              "      background-color: #434B5C;\n",
              "      box-shadow: 0px 1px 3px 1px rgba(0, 0, 0, 0.15);\n",
              "      filter: drop-shadow(0px 1px 2px rgba(0, 0, 0, 0.3));\n",
              "      fill: #FFFFFF;\n",
              "    }\n",
              "  </style>\n",
              "\n",
              "      <script>\n",
              "        const buttonEl =\n",
              "          document.querySelector('#df-72c44c5e-005f-4858-9287-655d37c0224f button.colab-df-convert');\n",
              "        buttonEl.style.display =\n",
              "          google.colab.kernel.accessAllowed ? 'block' : 'none';\n",
              "\n",
              "        async function convertToInteractive(key) {\n",
              "          const element = document.querySelector('#df-72c44c5e-005f-4858-9287-655d37c0224f');\n",
              "          const dataTable =\n",
              "            await google.colab.kernel.invokeFunction('convertToInteractive',\n",
              "                                                     [key], {});\n",
              "          if (!dataTable) return;\n",
              "\n",
              "          const docLinkHtml = 'Like what you see? Visit the ' +\n",
              "            '<a target=\"_blank\" href=https://colab.research.google.com/notebooks/data_table.ipynb>data table notebook</a>'\n",
              "            + ' to learn more about interactive tables.';\n",
              "          element.innerHTML = '';\n",
              "          dataTable['output_type'] = 'display_data';\n",
              "          await google.colab.output.renderOutput(dataTable, element);\n",
              "          const docLink = document.createElement('div');\n",
              "          docLink.innerHTML = docLinkHtml;\n",
              "          element.appendChild(docLink);\n",
              "        }\n",
              "      </script>\n",
              "    </div>\n",
              "  </div>\n",
              "  "
            ]
          },
          "metadata": {},
          "execution_count": 4
        }
      ]
    },
    {
      "cell_type": "code",
      "source": [
        "# view summary of dataset\n",
        "\n",
        "df.info()"
      ],
      "metadata": {
        "colab": {
          "base_uri": "https://localhost:8080/"
        },
        "id": "AaoEm92nhVYi",
        "outputId": "35a5000a-4a5b-4d8b-9680-ec64cd5e8f77"
      },
      "execution_count": null,
      "outputs": [
        {
          "output_type": "stream",
          "name": "stdout",
          "text": [
            "<class 'pandas.core.frame.DataFrame'>\n",
            "RangeIndex: 12330 entries, 0 to 12329\n",
            "Data columns (total 18 columns):\n",
            " #   Column                   Non-Null Count  Dtype  \n",
            "---  ------                   --------------  -----  \n",
            " 0   Administrative           12330 non-null  int64  \n",
            " 1   Administrative_Duration  12330 non-null  float64\n",
            " 2   Informational            12330 non-null  int64  \n",
            " 3   Informational_Duration   12330 non-null  float64\n",
            " 4   ProductRelated           12330 non-null  int64  \n",
            " 5   ProductRelated_Duration  12330 non-null  float64\n",
            " 6   BounceRates              12330 non-null  float64\n",
            " 7   ExitRates                12330 non-null  float64\n",
            " 8   PageValues               12330 non-null  float64\n",
            " 9   SpecialDay               12330 non-null  float64\n",
            " 10  Month                    12330 non-null  object \n",
            " 11  OperatingSystems         12330 non-null  int64  \n",
            " 12  Browser                  12330 non-null  int64  \n",
            " 13  Region                   12330 non-null  int64  \n",
            " 14  TrafficType              12330 non-null  int64  \n",
            " 15  VisitorType              12330 non-null  object \n",
            " 16  Weekend                  12330 non-null  bool   \n",
            " 17  Revenue                  12330 non-null  bool   \n",
            "dtypes: bool(2), float64(7), int64(7), object(2)\n",
            "memory usage: 1.5+ MB\n"
          ]
        }
      ]
    },
    {
      "cell_type": "markdown",
      "source": [
        "We can see that there are no missing values ​​in the dataset and it seems that there are variables with Booleans and object data types.\n",
        "\n",
        "Therefore, we will convert the string value to a type integer by using Label Encoder in the scikit-learn library."
      ],
      "metadata": {
        "id": "9YEtlhIiuMYo"
      }
    },
    {
      "cell_type": "code",
      "source": [
        "# Converting string value to int type\n",
        "\n",
        "from sklearn.preprocessing import LabelEncoder\n",
        "\n",
        "df['VisitorType'] = LabelEncoder().fit_transform(df['VisitorType'])\n",
        "df['Weekend'] = LabelEncoder().fit_transform(df['Weekend'])\n",
        "df['Revenue'] = LabelEncoder().fit_transform(df['Revenue'])"
      ],
      "metadata": {
        "id": "CDwl3QMyh4tD"
      },
      "execution_count": null,
      "outputs": []
    },
    {
      "cell_type": "code",
      "source": [
        "df.head()"
      ],
      "metadata": {
        "colab": {
          "base_uri": "https://localhost:8080/",
          "height": 270
        },
        "id": "9dH7gVpRin7W",
        "outputId": "98a29e90-f779-4109-b840-88ac143ee83a"
      },
      "execution_count": null,
      "outputs": [
        {
          "output_type": "execute_result",
          "data": {
            "text/plain": [
              "   Administrative  Administrative_Duration  Informational  \\\n",
              "0               0                      0.0              0   \n",
              "1               0                      0.0              0   \n",
              "2               0                      0.0              0   \n",
              "3               0                      0.0              0   \n",
              "4               0                      0.0              0   \n",
              "\n",
              "   Informational_Duration  ProductRelated  ProductRelated_Duration  \\\n",
              "0                     0.0               1                 0.000000   \n",
              "1                     0.0               2                64.000000   \n",
              "2                     0.0               1                 0.000000   \n",
              "3                     0.0               2                 2.666667   \n",
              "4                     0.0              10               627.500000   \n",
              "\n",
              "   BounceRates  ExitRates  PageValues  SpecialDay Month  OperatingSystems  \\\n",
              "0         0.20       0.20         0.0         0.0   Feb                 1   \n",
              "1         0.00       0.10         0.0         0.0   Feb                 2   \n",
              "2         0.20       0.20         0.0         0.0   Feb                 4   \n",
              "3         0.05       0.14         0.0         0.0   Feb                 3   \n",
              "4         0.02       0.05         0.0         0.0   Feb                 3   \n",
              "\n",
              "   Browser  Region  TrafficType  VisitorType  Weekend  Revenue  \n",
              "0        1       1            1            2        0        0  \n",
              "1        2       1            2            2        0        0  \n",
              "2        1       9            3            2        0        0  \n",
              "3        2       2            4            2        0        0  \n",
              "4        3       1            4            2        1        0  "
            ],
            "text/html": [
              "\n",
              "  <div id=\"df-273f14f6-0fe6-4ec2-ba86-53ce86fc9e4b\">\n",
              "    <div class=\"colab-df-container\">\n",
              "      <div>\n",
              "<style scoped>\n",
              "    .dataframe tbody tr th:only-of-type {\n",
              "        vertical-align: middle;\n",
              "    }\n",
              "\n",
              "    .dataframe tbody tr th {\n",
              "        vertical-align: top;\n",
              "    }\n",
              "\n",
              "    .dataframe thead th {\n",
              "        text-align: right;\n",
              "    }\n",
              "</style>\n",
              "<table border=\"1\" class=\"dataframe\">\n",
              "  <thead>\n",
              "    <tr style=\"text-align: right;\">\n",
              "      <th></th>\n",
              "      <th>Administrative</th>\n",
              "      <th>Administrative_Duration</th>\n",
              "      <th>Informational</th>\n",
              "      <th>Informational_Duration</th>\n",
              "      <th>ProductRelated</th>\n",
              "      <th>ProductRelated_Duration</th>\n",
              "      <th>BounceRates</th>\n",
              "      <th>ExitRates</th>\n",
              "      <th>PageValues</th>\n",
              "      <th>SpecialDay</th>\n",
              "      <th>Month</th>\n",
              "      <th>OperatingSystems</th>\n",
              "      <th>Browser</th>\n",
              "      <th>Region</th>\n",
              "      <th>TrafficType</th>\n",
              "      <th>VisitorType</th>\n",
              "      <th>Weekend</th>\n",
              "      <th>Revenue</th>\n",
              "    </tr>\n",
              "  </thead>\n",
              "  <tbody>\n",
              "    <tr>\n",
              "      <th>0</th>\n",
              "      <td>0</td>\n",
              "      <td>0.0</td>\n",
              "      <td>0</td>\n",
              "      <td>0.0</td>\n",
              "      <td>1</td>\n",
              "      <td>0.000000</td>\n",
              "      <td>0.20</td>\n",
              "      <td>0.20</td>\n",
              "      <td>0.0</td>\n",
              "      <td>0.0</td>\n",
              "      <td>Feb</td>\n",
              "      <td>1</td>\n",
              "      <td>1</td>\n",
              "      <td>1</td>\n",
              "      <td>1</td>\n",
              "      <td>2</td>\n",
              "      <td>0</td>\n",
              "      <td>0</td>\n",
              "    </tr>\n",
              "    <tr>\n",
              "      <th>1</th>\n",
              "      <td>0</td>\n",
              "      <td>0.0</td>\n",
              "      <td>0</td>\n",
              "      <td>0.0</td>\n",
              "      <td>2</td>\n",
              "      <td>64.000000</td>\n",
              "      <td>0.00</td>\n",
              "      <td>0.10</td>\n",
              "      <td>0.0</td>\n",
              "      <td>0.0</td>\n",
              "      <td>Feb</td>\n",
              "      <td>2</td>\n",
              "      <td>2</td>\n",
              "      <td>1</td>\n",
              "      <td>2</td>\n",
              "      <td>2</td>\n",
              "      <td>0</td>\n",
              "      <td>0</td>\n",
              "    </tr>\n",
              "    <tr>\n",
              "      <th>2</th>\n",
              "      <td>0</td>\n",
              "      <td>0.0</td>\n",
              "      <td>0</td>\n",
              "      <td>0.0</td>\n",
              "      <td>1</td>\n",
              "      <td>0.000000</td>\n",
              "      <td>0.20</td>\n",
              "      <td>0.20</td>\n",
              "      <td>0.0</td>\n",
              "      <td>0.0</td>\n",
              "      <td>Feb</td>\n",
              "      <td>4</td>\n",
              "      <td>1</td>\n",
              "      <td>9</td>\n",
              "      <td>3</td>\n",
              "      <td>2</td>\n",
              "      <td>0</td>\n",
              "      <td>0</td>\n",
              "    </tr>\n",
              "    <tr>\n",
              "      <th>3</th>\n",
              "      <td>0</td>\n",
              "      <td>0.0</td>\n",
              "      <td>0</td>\n",
              "      <td>0.0</td>\n",
              "      <td>2</td>\n",
              "      <td>2.666667</td>\n",
              "      <td>0.05</td>\n",
              "      <td>0.14</td>\n",
              "      <td>0.0</td>\n",
              "      <td>0.0</td>\n",
              "      <td>Feb</td>\n",
              "      <td>3</td>\n",
              "      <td>2</td>\n",
              "      <td>2</td>\n",
              "      <td>4</td>\n",
              "      <td>2</td>\n",
              "      <td>0</td>\n",
              "      <td>0</td>\n",
              "    </tr>\n",
              "    <tr>\n",
              "      <th>4</th>\n",
              "      <td>0</td>\n",
              "      <td>0.0</td>\n",
              "      <td>0</td>\n",
              "      <td>0.0</td>\n",
              "      <td>10</td>\n",
              "      <td>627.500000</td>\n",
              "      <td>0.02</td>\n",
              "      <td>0.05</td>\n",
              "      <td>0.0</td>\n",
              "      <td>0.0</td>\n",
              "      <td>Feb</td>\n",
              "      <td>3</td>\n",
              "      <td>3</td>\n",
              "      <td>1</td>\n",
              "      <td>4</td>\n",
              "      <td>2</td>\n",
              "      <td>1</td>\n",
              "      <td>0</td>\n",
              "    </tr>\n",
              "  </tbody>\n",
              "</table>\n",
              "</div>\n",
              "      <button class=\"colab-df-convert\" onclick=\"convertToInteractive('df-273f14f6-0fe6-4ec2-ba86-53ce86fc9e4b')\"\n",
              "              title=\"Convert this dataframe to an interactive table.\"\n",
              "              style=\"display:none;\">\n",
              "        \n",
              "  <svg xmlns=\"http://www.w3.org/2000/svg\" height=\"24px\"viewBox=\"0 0 24 24\"\n",
              "       width=\"24px\">\n",
              "    <path d=\"M0 0h24v24H0V0z\" fill=\"none\"/>\n",
              "    <path d=\"M18.56 5.44l.94 2.06.94-2.06 2.06-.94-2.06-.94-.94-2.06-.94 2.06-2.06.94zm-11 1L8.5 8.5l.94-2.06 2.06-.94-2.06-.94L8.5 2.5l-.94 2.06-2.06.94zm10 10l.94 2.06.94-2.06 2.06-.94-2.06-.94-.94-2.06-.94 2.06-2.06.94z\"/><path d=\"M17.41 7.96l-1.37-1.37c-.4-.4-.92-.59-1.43-.59-.52 0-1.04.2-1.43.59L10.3 9.45l-7.72 7.72c-.78.78-.78 2.05 0 2.83L4 21.41c.39.39.9.59 1.41.59.51 0 1.02-.2 1.41-.59l7.78-7.78 2.81-2.81c.8-.78.8-2.07 0-2.86zM5.41 20L4 18.59l7.72-7.72 1.47 1.35L5.41 20z\"/>\n",
              "  </svg>\n",
              "      </button>\n",
              "      \n",
              "  <style>\n",
              "    .colab-df-container {\n",
              "      display:flex;\n",
              "      flex-wrap:wrap;\n",
              "      gap: 12px;\n",
              "    }\n",
              "\n",
              "    .colab-df-convert {\n",
              "      background-color: #E8F0FE;\n",
              "      border: none;\n",
              "      border-radius: 50%;\n",
              "      cursor: pointer;\n",
              "      display: none;\n",
              "      fill: #1967D2;\n",
              "      height: 32px;\n",
              "      padding: 0 0 0 0;\n",
              "      width: 32px;\n",
              "    }\n",
              "\n",
              "    .colab-df-convert:hover {\n",
              "      background-color: #E2EBFA;\n",
              "      box-shadow: 0px 1px 2px rgba(60, 64, 67, 0.3), 0px 1px 3px 1px rgba(60, 64, 67, 0.15);\n",
              "      fill: #174EA6;\n",
              "    }\n",
              "\n",
              "    [theme=dark] .colab-df-convert {\n",
              "      background-color: #3B4455;\n",
              "      fill: #D2E3FC;\n",
              "    }\n",
              "\n",
              "    [theme=dark] .colab-df-convert:hover {\n",
              "      background-color: #434B5C;\n",
              "      box-shadow: 0px 1px 3px 1px rgba(0, 0, 0, 0.15);\n",
              "      filter: drop-shadow(0px 1px 2px rgba(0, 0, 0, 0.3));\n",
              "      fill: #FFFFFF;\n",
              "    }\n",
              "  </style>\n",
              "\n",
              "      <script>\n",
              "        const buttonEl =\n",
              "          document.querySelector('#df-273f14f6-0fe6-4ec2-ba86-53ce86fc9e4b button.colab-df-convert');\n",
              "        buttonEl.style.display =\n",
              "          google.colab.kernel.accessAllowed ? 'block' : 'none';\n",
              "\n",
              "        async function convertToInteractive(key) {\n",
              "          const element = document.querySelector('#df-273f14f6-0fe6-4ec2-ba86-53ce86fc9e4b');\n",
              "          const dataTable =\n",
              "            await google.colab.kernel.invokeFunction('convertToInteractive',\n",
              "                                                     [key], {});\n",
              "          if (!dataTable) return;\n",
              "\n",
              "          const docLinkHtml = 'Like what you see? Visit the ' +\n",
              "            '<a target=\"_blank\" href=https://colab.research.google.com/notebooks/data_table.ipynb>data table notebook</a>'\n",
              "            + ' to learn more about interactive tables.';\n",
              "          element.innerHTML = '';\n",
              "          dataTable['output_type'] = 'display_data';\n",
              "          await google.colab.output.renderOutput(dataTable, element);\n",
              "          const docLink = document.createElement('div');\n",
              "          docLink.innerHTML = docLinkHtml;\n",
              "          element.appendChild(docLink);\n",
              "        }\n",
              "      </script>\n",
              "    </div>\n",
              "  </div>\n",
              "  "
            ]
          },
          "metadata": {},
          "execution_count": 7
        }
      ]
    },
    {
      "cell_type": "markdown",
      "source": [
        "We will delete an unnecessary attribute like the month column which has a data type object."
      ],
      "metadata": {
        "id": "KuZNs2vpuUya"
      }
    },
    {
      "cell_type": "code",
      "source": [
        "# drop month column\n",
        "df = df.drop(['Month'], axis=1)"
      ],
      "metadata": {
        "id": "2X4azZVpitfw"
      },
      "execution_count": null,
      "outputs": []
    },
    {
      "cell_type": "code",
      "source": [
        "df.info()"
      ],
      "metadata": {
        "colab": {
          "base_uri": "https://localhost:8080/"
        },
        "id": "E4KRSwLsjOQe",
        "outputId": "c3654c06-d3d9-481f-efe3-7a7e1456697d"
      },
      "execution_count": null,
      "outputs": [
        {
          "output_type": "stream",
          "name": "stdout",
          "text": [
            "<class 'pandas.core.frame.DataFrame'>\n",
            "RangeIndex: 12330 entries, 0 to 12329\n",
            "Data columns (total 17 columns):\n",
            " #   Column                   Non-Null Count  Dtype  \n",
            "---  ------                   --------------  -----  \n",
            " 0   Administrative           12330 non-null  int64  \n",
            " 1   Administrative_Duration  12330 non-null  float64\n",
            " 2   Informational            12330 non-null  int64  \n",
            " 3   Informational_Duration   12330 non-null  float64\n",
            " 4   ProductRelated           12330 non-null  int64  \n",
            " 5   ProductRelated_Duration  12330 non-null  float64\n",
            " 6   BounceRates              12330 non-null  float64\n",
            " 7   ExitRates                12330 non-null  float64\n",
            " 8   PageValues               12330 non-null  float64\n",
            " 9   SpecialDay               12330 non-null  float64\n",
            " 10  OperatingSystems         12330 non-null  int64  \n",
            " 11  Browser                  12330 non-null  int64  \n",
            " 12  Region                   12330 non-null  int64  \n",
            " 13  TrafficType              12330 non-null  int64  \n",
            " 14  VisitorType              12330 non-null  int64  \n",
            " 15  Weekend                  12330 non-null  int64  \n",
            " 16  Revenue                  12330 non-null  int64  \n",
            "dtypes: float64(7), int64(10)\n",
            "memory usage: 1.6 MB\n"
          ]
        }
      ]
    },
    {
      "cell_type": "markdown",
      "source": [
        "To ensure that our data is completely clean and ready for analysis, we will look for missing values ​​in the dataset."
      ],
      "metadata": {
        "id": "378JrQSpubfE"
      }
    },
    {
      "cell_type": "code",
      "source": [
        "# check for missing values in variables\n",
        "\n",
        "df.isnull().sum()"
      ],
      "metadata": {
        "colab": {
          "base_uri": "https://localhost:8080/"
        },
        "id": "rZTxhg1bha2e",
        "outputId": "c90f8020-486a-40fd-dfb7-f541da027ad6"
      },
      "execution_count": null,
      "outputs": [
        {
          "output_type": "execute_result",
          "data": {
            "text/plain": [
              "Administrative             0\n",
              "Administrative_Duration    0\n",
              "Informational              0\n",
              "Informational_Duration     0\n",
              "ProductRelated             0\n",
              "ProductRelated_Duration    0\n",
              "BounceRates                0\n",
              "ExitRates                  0\n",
              "PageValues                 0\n",
              "SpecialDay                 0\n",
              "OperatingSystems           0\n",
              "Browser                    0\n",
              "Region                     0\n",
              "TrafficType                0\n",
              "VisitorType                0\n",
              "Weekend                    0\n",
              "Revenue                    0\n",
              "dtype: int64"
            ]
          },
          "metadata": {},
          "execution_count": 10
        }
      ]
    },
    {
      "cell_type": "markdown",
      "source": [
        "We can see that there are no missing values in the dataset."
      ],
      "metadata": {
        "id": "y_7nLmsBug6K"
      }
    },
    {
      "cell_type": "markdown",
      "source": [
        "## **2. Descriptive analysis**\n",
        "\n",
        "Now we will explore the data with descriptive analysis to gain insights into the dataset used."
      ],
      "metadata": {
        "id": "odVpwAbut0cr"
      }
    },
    {
      "cell_type": "code",
      "source": [
        "# view dimensions of dataset\n",
        "\n",
        "df.shape"
      ],
      "metadata": {
        "colab": {
          "base_uri": "https://localhost:8080/"
        },
        "id": "UDQoUqAygsQo",
        "outputId": "13f5efe0-269d-4ad5-b582-d24c0a51ff3d"
      },
      "execution_count": null,
      "outputs": [
        {
          "output_type": "execute_result",
          "data": {
            "text/plain": [
              "(12330, 17)"
            ]
          },
          "metadata": {},
          "execution_count": 11
        }
      ]
    },
    {
      "cell_type": "markdown",
      "source": [
        "We can see that there are 12,330 instances and 17 attributes in our dataset.\n",
        "\n",
        "\n",
        "As we know earlier, the 'Revenue' attribute can be used as the class label. So we will check the distribution on the class label."
      ],
      "metadata": {
        "id": "TUnhXQV-uB5s"
      }
    },
    {
      "cell_type": "code",
      "source": [
        "# check distribution of class column\n",
        "\n",
        "df['Revenue'].value_counts()"
      ],
      "metadata": {
        "colab": {
          "base_uri": "https://localhost:8080/"
        },
        "id": "CXwgIbEYg9WA",
        "outputId": "d5603dc9-2942-4f50-9c3d-4f7b22c387f5"
      },
      "execution_count": null,
      "outputs": [
        {
          "output_type": "execute_result",
          "data": {
            "text/plain": [
              "0    10422\n",
              "1     1908\n",
              "Name: Revenue, dtype: int64"
            ]
          },
          "metadata": {},
          "execution_count": 12
        }
      ]
    },
    {
      "cell_type": "code",
      "source": [
        "# view the percentage distribution of class column\n",
        "\n",
        "df['Revenue'].value_counts()/np.float(len(df))"
      ],
      "metadata": {
        "colab": {
          "base_uri": "https://localhost:8080/"
        },
        "id": "MbKJa3HKhOQo",
        "outputId": "704ab5b4-42ea-487d-f66e-ed270dd166f5"
      },
      "execution_count": null,
      "outputs": [
        {
          "output_type": "stream",
          "name": "stderr",
          "text": [
            "/usr/local/lib/python3.7/dist-packages/ipykernel_launcher.py:3: DeprecationWarning: `np.float` is a deprecated alias for the builtin `float`. To silence this warning, use `float` by itself. Doing this will not modify any behavior and is safe. If you specifically wanted the numpy scalar type, use `np.float64` here.\n",
            "Deprecated in NumPy 1.20; for more details and guidance: https://numpy.org/devdocs/release/1.20.0-notes.html#deprecations\n",
            "  This is separate from the ipykernel package so we can avoid doing imports until\n"
          ]
        },
        {
          "output_type": "execute_result",
          "data": {
            "text/plain": [
              "0    0.845255\n",
              "1    0.154745\n",
              "Name: Revenue, dtype: float64"
            ]
          },
          "metadata": {},
          "execution_count": 13
        }
      ]
    },
    {
      "cell_type": "markdown",
      "source": [
        "Of the 12,330 sessions in the dataset, 84.5% (10,422) were negative class samples that did not end with shopping, and the rest 15.5% (1,908) were positive class samples ending with shopping.\n",
        "\n",
        "Then, we can use describe to get statistical summary of each attribute."
      ],
      "metadata": {
        "id": "mA8ZbQIbuHE3"
      }
    },
    {
      "cell_type": "code",
      "source": [
        "# view summary statistics in numerical variables\n",
        "\n",
        "round(df.describe(),2)"
      ],
      "metadata": {
        "colab": {
          "base_uri": "https://localhost:8080/",
          "height": 364
        },
        "id": "2F-6OAKghnr1",
        "outputId": "279e9b18-1ad1-44f1-ecef-334370d26c3b"
      },
      "execution_count": null,
      "outputs": [
        {
          "output_type": "execute_result",
          "data": {
            "text/plain": [
              "       Administrative  Administrative_Duration  Informational  \\\n",
              "count        12330.00                 12330.00       12330.00   \n",
              "mean             2.32                    80.82           0.50   \n",
              "std              3.32                   176.78           1.27   \n",
              "min              0.00                     0.00           0.00   \n",
              "25%              0.00                     0.00           0.00   \n",
              "50%              1.00                     7.50           0.00   \n",
              "75%              4.00                    93.26           0.00   \n",
              "max             27.00                  3398.75          24.00   \n",
              "\n",
              "       Informational_Duration  ProductRelated  ProductRelated_Duration  \\\n",
              "count                12330.00        12330.00                 12330.00   \n",
              "mean                    34.47           31.73                  1194.75   \n",
              "std                    140.75           44.48                  1913.67   \n",
              "min                      0.00            0.00                     0.00   \n",
              "25%                      0.00            7.00                   184.14   \n",
              "50%                      0.00           18.00                   598.94   \n",
              "75%                      0.00           38.00                  1464.16   \n",
              "max                   2549.38          705.00                 63973.52   \n",
              "\n",
              "       BounceRates  ExitRates  PageValues  SpecialDay  OperatingSystems  \\\n",
              "count     12330.00   12330.00    12330.00    12330.00          12330.00   \n",
              "mean          0.02       0.04        5.89        0.06              2.12   \n",
              "std           0.05       0.05       18.57        0.20              0.91   \n",
              "min           0.00       0.00        0.00        0.00              1.00   \n",
              "25%           0.00       0.01        0.00        0.00              2.00   \n",
              "50%           0.00       0.03        0.00        0.00              2.00   \n",
              "75%           0.02       0.05        0.00        0.00              3.00   \n",
              "max           0.20       0.20      361.76        1.00              8.00   \n",
              "\n",
              "        Browser    Region  TrafficType  VisitorType   Weekend   Revenue  \n",
              "count  12330.00  12330.00     12330.00     12330.00  12330.00  12330.00  \n",
              "mean       2.36      3.15         4.07         1.72      0.23      0.15  \n",
              "std        1.72      2.40         4.03         0.69      0.42      0.36  \n",
              "min        1.00      1.00         1.00         0.00      0.00      0.00  \n",
              "25%        2.00      1.00         2.00         2.00      0.00      0.00  \n",
              "50%        2.00      3.00         2.00         2.00      0.00      0.00  \n",
              "75%        2.00      4.00         4.00         2.00      0.00      0.00  \n",
              "max       13.00      9.00        20.00         2.00      1.00      1.00  "
            ],
            "text/html": [
              "\n",
              "  <div id=\"df-ecd97f77-c6a6-4c3f-bec4-c57a2eb60207\">\n",
              "    <div class=\"colab-df-container\">\n",
              "      <div>\n",
              "<style scoped>\n",
              "    .dataframe tbody tr th:only-of-type {\n",
              "        vertical-align: middle;\n",
              "    }\n",
              "\n",
              "    .dataframe tbody tr th {\n",
              "        vertical-align: top;\n",
              "    }\n",
              "\n",
              "    .dataframe thead th {\n",
              "        text-align: right;\n",
              "    }\n",
              "</style>\n",
              "<table border=\"1\" class=\"dataframe\">\n",
              "  <thead>\n",
              "    <tr style=\"text-align: right;\">\n",
              "      <th></th>\n",
              "      <th>Administrative</th>\n",
              "      <th>Administrative_Duration</th>\n",
              "      <th>Informational</th>\n",
              "      <th>Informational_Duration</th>\n",
              "      <th>ProductRelated</th>\n",
              "      <th>ProductRelated_Duration</th>\n",
              "      <th>BounceRates</th>\n",
              "      <th>ExitRates</th>\n",
              "      <th>PageValues</th>\n",
              "      <th>SpecialDay</th>\n",
              "      <th>OperatingSystems</th>\n",
              "      <th>Browser</th>\n",
              "      <th>Region</th>\n",
              "      <th>TrafficType</th>\n",
              "      <th>VisitorType</th>\n",
              "      <th>Weekend</th>\n",
              "      <th>Revenue</th>\n",
              "    </tr>\n",
              "  </thead>\n",
              "  <tbody>\n",
              "    <tr>\n",
              "      <th>count</th>\n",
              "      <td>12330.00</td>\n",
              "      <td>12330.00</td>\n",
              "      <td>12330.00</td>\n",
              "      <td>12330.00</td>\n",
              "      <td>12330.00</td>\n",
              "      <td>12330.00</td>\n",
              "      <td>12330.00</td>\n",
              "      <td>12330.00</td>\n",
              "      <td>12330.00</td>\n",
              "      <td>12330.00</td>\n",
              "      <td>12330.00</td>\n",
              "      <td>12330.00</td>\n",
              "      <td>12330.00</td>\n",
              "      <td>12330.00</td>\n",
              "      <td>12330.00</td>\n",
              "      <td>12330.00</td>\n",
              "      <td>12330.00</td>\n",
              "    </tr>\n",
              "    <tr>\n",
              "      <th>mean</th>\n",
              "      <td>2.32</td>\n",
              "      <td>80.82</td>\n",
              "      <td>0.50</td>\n",
              "      <td>34.47</td>\n",
              "      <td>31.73</td>\n",
              "      <td>1194.75</td>\n",
              "      <td>0.02</td>\n",
              "      <td>0.04</td>\n",
              "      <td>5.89</td>\n",
              "      <td>0.06</td>\n",
              "      <td>2.12</td>\n",
              "      <td>2.36</td>\n",
              "      <td>3.15</td>\n",
              "      <td>4.07</td>\n",
              "      <td>1.72</td>\n",
              "      <td>0.23</td>\n",
              "      <td>0.15</td>\n",
              "    </tr>\n",
              "    <tr>\n",
              "      <th>std</th>\n",
              "      <td>3.32</td>\n",
              "      <td>176.78</td>\n",
              "      <td>1.27</td>\n",
              "      <td>140.75</td>\n",
              "      <td>44.48</td>\n",
              "      <td>1913.67</td>\n",
              "      <td>0.05</td>\n",
              "      <td>0.05</td>\n",
              "      <td>18.57</td>\n",
              "      <td>0.20</td>\n",
              "      <td>0.91</td>\n",
              "      <td>1.72</td>\n",
              "      <td>2.40</td>\n",
              "      <td>4.03</td>\n",
              "      <td>0.69</td>\n",
              "      <td>0.42</td>\n",
              "      <td>0.36</td>\n",
              "    </tr>\n",
              "    <tr>\n",
              "      <th>min</th>\n",
              "      <td>0.00</td>\n",
              "      <td>0.00</td>\n",
              "      <td>0.00</td>\n",
              "      <td>0.00</td>\n",
              "      <td>0.00</td>\n",
              "      <td>0.00</td>\n",
              "      <td>0.00</td>\n",
              "      <td>0.00</td>\n",
              "      <td>0.00</td>\n",
              "      <td>0.00</td>\n",
              "      <td>1.00</td>\n",
              "      <td>1.00</td>\n",
              "      <td>1.00</td>\n",
              "      <td>1.00</td>\n",
              "      <td>0.00</td>\n",
              "      <td>0.00</td>\n",
              "      <td>0.00</td>\n",
              "    </tr>\n",
              "    <tr>\n",
              "      <th>25%</th>\n",
              "      <td>0.00</td>\n",
              "      <td>0.00</td>\n",
              "      <td>0.00</td>\n",
              "      <td>0.00</td>\n",
              "      <td>7.00</td>\n",
              "      <td>184.14</td>\n",
              "      <td>0.00</td>\n",
              "      <td>0.01</td>\n",
              "      <td>0.00</td>\n",
              "      <td>0.00</td>\n",
              "      <td>2.00</td>\n",
              "      <td>2.00</td>\n",
              "      <td>1.00</td>\n",
              "      <td>2.00</td>\n",
              "      <td>2.00</td>\n",
              "      <td>0.00</td>\n",
              "      <td>0.00</td>\n",
              "    </tr>\n",
              "    <tr>\n",
              "      <th>50%</th>\n",
              "      <td>1.00</td>\n",
              "      <td>7.50</td>\n",
              "      <td>0.00</td>\n",
              "      <td>0.00</td>\n",
              "      <td>18.00</td>\n",
              "      <td>598.94</td>\n",
              "      <td>0.00</td>\n",
              "      <td>0.03</td>\n",
              "      <td>0.00</td>\n",
              "      <td>0.00</td>\n",
              "      <td>2.00</td>\n",
              "      <td>2.00</td>\n",
              "      <td>3.00</td>\n",
              "      <td>2.00</td>\n",
              "      <td>2.00</td>\n",
              "      <td>0.00</td>\n",
              "      <td>0.00</td>\n",
              "    </tr>\n",
              "    <tr>\n",
              "      <th>75%</th>\n",
              "      <td>4.00</td>\n",
              "      <td>93.26</td>\n",
              "      <td>0.00</td>\n",
              "      <td>0.00</td>\n",
              "      <td>38.00</td>\n",
              "      <td>1464.16</td>\n",
              "      <td>0.02</td>\n",
              "      <td>0.05</td>\n",
              "      <td>0.00</td>\n",
              "      <td>0.00</td>\n",
              "      <td>3.00</td>\n",
              "      <td>2.00</td>\n",
              "      <td>4.00</td>\n",
              "      <td>4.00</td>\n",
              "      <td>2.00</td>\n",
              "      <td>0.00</td>\n",
              "      <td>0.00</td>\n",
              "    </tr>\n",
              "    <tr>\n",
              "      <th>max</th>\n",
              "      <td>27.00</td>\n",
              "      <td>3398.75</td>\n",
              "      <td>24.00</td>\n",
              "      <td>2549.38</td>\n",
              "      <td>705.00</td>\n",
              "      <td>63973.52</td>\n",
              "      <td>0.20</td>\n",
              "      <td>0.20</td>\n",
              "      <td>361.76</td>\n",
              "      <td>1.00</td>\n",
              "      <td>8.00</td>\n",
              "      <td>13.00</td>\n",
              "      <td>9.00</td>\n",
              "      <td>20.00</td>\n",
              "      <td>2.00</td>\n",
              "      <td>1.00</td>\n",
              "      <td>1.00</td>\n",
              "    </tr>\n",
              "  </tbody>\n",
              "</table>\n",
              "</div>\n",
              "      <button class=\"colab-df-convert\" onclick=\"convertToInteractive('df-ecd97f77-c6a6-4c3f-bec4-c57a2eb60207')\"\n",
              "              title=\"Convert this dataframe to an interactive table.\"\n",
              "              style=\"display:none;\">\n",
              "        \n",
              "  <svg xmlns=\"http://www.w3.org/2000/svg\" height=\"24px\"viewBox=\"0 0 24 24\"\n",
              "       width=\"24px\">\n",
              "    <path d=\"M0 0h24v24H0V0z\" fill=\"none\"/>\n",
              "    <path d=\"M18.56 5.44l.94 2.06.94-2.06 2.06-.94-2.06-.94-.94-2.06-.94 2.06-2.06.94zm-11 1L8.5 8.5l.94-2.06 2.06-.94-2.06-.94L8.5 2.5l-.94 2.06-2.06.94zm10 10l.94 2.06.94-2.06 2.06-.94-2.06-.94-.94-2.06-.94 2.06-2.06.94z\"/><path d=\"M17.41 7.96l-1.37-1.37c-.4-.4-.92-.59-1.43-.59-.52 0-1.04.2-1.43.59L10.3 9.45l-7.72 7.72c-.78.78-.78 2.05 0 2.83L4 21.41c.39.39.9.59 1.41.59.51 0 1.02-.2 1.41-.59l7.78-7.78 2.81-2.81c.8-.78.8-2.07 0-2.86zM5.41 20L4 18.59l7.72-7.72 1.47 1.35L5.41 20z\"/>\n",
              "  </svg>\n",
              "      </button>\n",
              "      \n",
              "  <style>\n",
              "    .colab-df-container {\n",
              "      display:flex;\n",
              "      flex-wrap:wrap;\n",
              "      gap: 12px;\n",
              "    }\n",
              "\n",
              "    .colab-df-convert {\n",
              "      background-color: #E8F0FE;\n",
              "      border: none;\n",
              "      border-radius: 50%;\n",
              "      cursor: pointer;\n",
              "      display: none;\n",
              "      fill: #1967D2;\n",
              "      height: 32px;\n",
              "      padding: 0 0 0 0;\n",
              "      width: 32px;\n",
              "    }\n",
              "\n",
              "    .colab-df-convert:hover {\n",
              "      background-color: #E2EBFA;\n",
              "      box-shadow: 0px 1px 2px rgba(60, 64, 67, 0.3), 0px 1px 3px 1px rgba(60, 64, 67, 0.15);\n",
              "      fill: #174EA6;\n",
              "    }\n",
              "\n",
              "    [theme=dark] .colab-df-convert {\n",
              "      background-color: #3B4455;\n",
              "      fill: #D2E3FC;\n",
              "    }\n",
              "\n",
              "    [theme=dark] .colab-df-convert:hover {\n",
              "      background-color: #434B5C;\n",
              "      box-shadow: 0px 1px 3px 1px rgba(0, 0, 0, 0.15);\n",
              "      filter: drop-shadow(0px 1px 2px rgba(0, 0, 0, 0.3));\n",
              "      fill: #FFFFFF;\n",
              "    }\n",
              "  </style>\n",
              "\n",
              "      <script>\n",
              "        const buttonEl =\n",
              "          document.querySelector('#df-ecd97f77-c6a6-4c3f-bec4-c57a2eb60207 button.colab-df-convert');\n",
              "        buttonEl.style.display =\n",
              "          google.colab.kernel.accessAllowed ? 'block' : 'none';\n",
              "\n",
              "        async function convertToInteractive(key) {\n",
              "          const element = document.querySelector('#df-ecd97f77-c6a6-4c3f-bec4-c57a2eb60207');\n",
              "          const dataTable =\n",
              "            await google.colab.kernel.invokeFunction('convertToInteractive',\n",
              "                                                     [key], {});\n",
              "          if (!dataTable) return;\n",
              "\n",
              "          const docLinkHtml = 'Like what you see? Visit the ' +\n",
              "            '<a target=\"_blank\" href=https://colab.research.google.com/notebooks/data_table.ipynb>data table notebook</a>'\n",
              "            + ' to learn more about interactive tables.';\n",
              "          element.innerHTML = '';\n",
              "          dataTable['output_type'] = 'display_data';\n",
              "          await google.colab.output.renderOutput(dataTable, element);\n",
              "          const docLink = document.createElement('div');\n",
              "          docLink.innerHTML = docLinkHtml;\n",
              "          element.appendChild(docLink);\n",
              "        }\n",
              "      </script>\n",
              "    </div>\n",
              "  </div>\n",
              "  "
            ]
          },
          "metadata": {},
          "execution_count": 14
        }
      ]
    },
    {
      "cell_type": "markdown",
      "source": [
        "## **3. Separating features and labels**\n",
        "\n",
        "The iloc indexer for Python Pandas selects rows and columns from data frames. Then we use iloc to retrieve all attribute columns which will be variable X without including the 'Revenue' column which is the class label (variable Y)."
      ],
      "metadata": {
        "id": "kCtf_NS4ui4d"
      }
    },
    {
      "cell_type": "code",
      "source": [
        "# separating features and label\n",
        "x=df.iloc[:, :-1]\n",
        "x.head()"
      ],
      "metadata": {
        "colab": {
          "base_uri": "https://localhost:8080/"
        },
        "id": "a3Hrqa2mjY5N",
        "outputId": "93a55ad1-b2b9-4e0e-a8a3-26593c0dc064"
      },
      "execution_count": null,
      "outputs": [
        {
          "output_type": "execute_result",
          "data": {
            "text/plain": [
              "   Administrative  Administrative_Duration  Informational  \\\n",
              "0               0                      0.0              0   \n",
              "1               0                      0.0              0   \n",
              "2               0                      0.0              0   \n",
              "3               0                      0.0              0   \n",
              "4               0                      0.0              0   \n",
              "\n",
              "   Informational_Duration  ProductRelated  ProductRelated_Duration  \\\n",
              "0                     0.0               1                 0.000000   \n",
              "1                     0.0               2                64.000000   \n",
              "2                     0.0               1                 0.000000   \n",
              "3                     0.0               2                 2.666667   \n",
              "4                     0.0              10               627.500000   \n",
              "\n",
              "   BounceRates  ExitRates  PageValues  SpecialDay  OperatingSystems  Browser  \\\n",
              "0         0.20       0.20         0.0         0.0                 1        1   \n",
              "1         0.00       0.10         0.0         0.0                 2        2   \n",
              "2         0.20       0.20         0.0         0.0                 4        1   \n",
              "3         0.05       0.14         0.0         0.0                 3        2   \n",
              "4         0.02       0.05         0.0         0.0                 3        3   \n",
              "\n",
              "   Region  TrafficType  VisitorType  Weekend  \n",
              "0       1            1            2        0  \n",
              "1       1            2            2        0  \n",
              "2       9            3            2        0  \n",
              "3       2            4            2        0  \n",
              "4       1            4            2        1  "
            ],
            "text/html": [
              "\n",
              "  <div id=\"df-788c1504-8b02-4eeb-8501-1a9bcb30c4b3\">\n",
              "    <div class=\"colab-df-container\">\n",
              "      <div>\n",
              "<style scoped>\n",
              "    .dataframe tbody tr th:only-of-type {\n",
              "        vertical-align: middle;\n",
              "    }\n",
              "\n",
              "    .dataframe tbody tr th {\n",
              "        vertical-align: top;\n",
              "    }\n",
              "\n",
              "    .dataframe thead th {\n",
              "        text-align: right;\n",
              "    }\n",
              "</style>\n",
              "<table border=\"1\" class=\"dataframe\">\n",
              "  <thead>\n",
              "    <tr style=\"text-align: right;\">\n",
              "      <th></th>\n",
              "      <th>Administrative</th>\n",
              "      <th>Administrative_Duration</th>\n",
              "      <th>Informational</th>\n",
              "      <th>Informational_Duration</th>\n",
              "      <th>ProductRelated</th>\n",
              "      <th>ProductRelated_Duration</th>\n",
              "      <th>BounceRates</th>\n",
              "      <th>ExitRates</th>\n",
              "      <th>PageValues</th>\n",
              "      <th>SpecialDay</th>\n",
              "      <th>OperatingSystems</th>\n",
              "      <th>Browser</th>\n",
              "      <th>Region</th>\n",
              "      <th>TrafficType</th>\n",
              "      <th>VisitorType</th>\n",
              "      <th>Weekend</th>\n",
              "    </tr>\n",
              "  </thead>\n",
              "  <tbody>\n",
              "    <tr>\n",
              "      <th>0</th>\n",
              "      <td>0</td>\n",
              "      <td>0.0</td>\n",
              "      <td>0</td>\n",
              "      <td>0.0</td>\n",
              "      <td>1</td>\n",
              "      <td>0.000000</td>\n",
              "      <td>0.20</td>\n",
              "      <td>0.20</td>\n",
              "      <td>0.0</td>\n",
              "      <td>0.0</td>\n",
              "      <td>1</td>\n",
              "      <td>1</td>\n",
              "      <td>1</td>\n",
              "      <td>1</td>\n",
              "      <td>2</td>\n",
              "      <td>0</td>\n",
              "    </tr>\n",
              "    <tr>\n",
              "      <th>1</th>\n",
              "      <td>0</td>\n",
              "      <td>0.0</td>\n",
              "      <td>0</td>\n",
              "      <td>0.0</td>\n",
              "      <td>2</td>\n",
              "      <td>64.000000</td>\n",
              "      <td>0.00</td>\n",
              "      <td>0.10</td>\n",
              "      <td>0.0</td>\n",
              "      <td>0.0</td>\n",
              "      <td>2</td>\n",
              "      <td>2</td>\n",
              "      <td>1</td>\n",
              "      <td>2</td>\n",
              "      <td>2</td>\n",
              "      <td>0</td>\n",
              "    </tr>\n",
              "    <tr>\n",
              "      <th>2</th>\n",
              "      <td>0</td>\n",
              "      <td>0.0</td>\n",
              "      <td>0</td>\n",
              "      <td>0.0</td>\n",
              "      <td>1</td>\n",
              "      <td>0.000000</td>\n",
              "      <td>0.20</td>\n",
              "      <td>0.20</td>\n",
              "      <td>0.0</td>\n",
              "      <td>0.0</td>\n",
              "      <td>4</td>\n",
              "      <td>1</td>\n",
              "      <td>9</td>\n",
              "      <td>3</td>\n",
              "      <td>2</td>\n",
              "      <td>0</td>\n",
              "    </tr>\n",
              "    <tr>\n",
              "      <th>3</th>\n",
              "      <td>0</td>\n",
              "      <td>0.0</td>\n",
              "      <td>0</td>\n",
              "      <td>0.0</td>\n",
              "      <td>2</td>\n",
              "      <td>2.666667</td>\n",
              "      <td>0.05</td>\n",
              "      <td>0.14</td>\n",
              "      <td>0.0</td>\n",
              "      <td>0.0</td>\n",
              "      <td>3</td>\n",
              "      <td>2</td>\n",
              "      <td>2</td>\n",
              "      <td>4</td>\n",
              "      <td>2</td>\n",
              "      <td>0</td>\n",
              "    </tr>\n",
              "    <tr>\n",
              "      <th>4</th>\n",
              "      <td>0</td>\n",
              "      <td>0.0</td>\n",
              "      <td>0</td>\n",
              "      <td>0.0</td>\n",
              "      <td>10</td>\n",
              "      <td>627.500000</td>\n",
              "      <td>0.02</td>\n",
              "      <td>0.05</td>\n",
              "      <td>0.0</td>\n",
              "      <td>0.0</td>\n",
              "      <td>3</td>\n",
              "      <td>3</td>\n",
              "      <td>1</td>\n",
              "      <td>4</td>\n",
              "      <td>2</td>\n",
              "      <td>1</td>\n",
              "    </tr>\n",
              "  </tbody>\n",
              "</table>\n",
              "</div>\n",
              "      <button class=\"colab-df-convert\" onclick=\"convertToInteractive('df-788c1504-8b02-4eeb-8501-1a9bcb30c4b3')\"\n",
              "              title=\"Convert this dataframe to an interactive table.\"\n",
              "              style=\"display:none;\">\n",
              "        \n",
              "  <svg xmlns=\"http://www.w3.org/2000/svg\" height=\"24px\"viewBox=\"0 0 24 24\"\n",
              "       width=\"24px\">\n",
              "    <path d=\"M0 0h24v24H0V0z\" fill=\"none\"/>\n",
              "    <path d=\"M18.56 5.44l.94 2.06.94-2.06 2.06-.94-2.06-.94-.94-2.06-.94 2.06-2.06.94zm-11 1L8.5 8.5l.94-2.06 2.06-.94-2.06-.94L8.5 2.5l-.94 2.06-2.06.94zm10 10l.94 2.06.94-2.06 2.06-.94-2.06-.94-.94-2.06-.94 2.06-2.06.94z\"/><path d=\"M17.41 7.96l-1.37-1.37c-.4-.4-.92-.59-1.43-.59-.52 0-1.04.2-1.43.59L10.3 9.45l-7.72 7.72c-.78.78-.78 2.05 0 2.83L4 21.41c.39.39.9.59 1.41.59.51 0 1.02-.2 1.41-.59l7.78-7.78 2.81-2.81c.8-.78.8-2.07 0-2.86zM5.41 20L4 18.59l7.72-7.72 1.47 1.35L5.41 20z\"/>\n",
              "  </svg>\n",
              "      </button>\n",
              "      \n",
              "  <style>\n",
              "    .colab-df-container {\n",
              "      display:flex;\n",
              "      flex-wrap:wrap;\n",
              "      gap: 12px;\n",
              "    }\n",
              "\n",
              "    .colab-df-convert {\n",
              "      background-color: #E8F0FE;\n",
              "      border: none;\n",
              "      border-radius: 50%;\n",
              "      cursor: pointer;\n",
              "      display: none;\n",
              "      fill: #1967D2;\n",
              "      height: 32px;\n",
              "      padding: 0 0 0 0;\n",
              "      width: 32px;\n",
              "    }\n",
              "\n",
              "    .colab-df-convert:hover {\n",
              "      background-color: #E2EBFA;\n",
              "      box-shadow: 0px 1px 2px rgba(60, 64, 67, 0.3), 0px 1px 3px 1px rgba(60, 64, 67, 0.15);\n",
              "      fill: #174EA6;\n",
              "    }\n",
              "\n",
              "    [theme=dark] .colab-df-convert {\n",
              "      background-color: #3B4455;\n",
              "      fill: #D2E3FC;\n",
              "    }\n",
              "\n",
              "    [theme=dark] .colab-df-convert:hover {\n",
              "      background-color: #434B5C;\n",
              "      box-shadow: 0px 1px 3px 1px rgba(0, 0, 0, 0.15);\n",
              "      filter: drop-shadow(0px 1px 2px rgba(0, 0, 0, 0.3));\n",
              "      fill: #FFFFFF;\n",
              "    }\n",
              "  </style>\n",
              "\n",
              "      <script>\n",
              "        const buttonEl =\n",
              "          document.querySelector('#df-788c1504-8b02-4eeb-8501-1a9bcb30c4b3 button.colab-df-convert');\n",
              "        buttonEl.style.display =\n",
              "          google.colab.kernel.accessAllowed ? 'block' : 'none';\n",
              "\n",
              "        async function convertToInteractive(key) {\n",
              "          const element = document.querySelector('#df-788c1504-8b02-4eeb-8501-1a9bcb30c4b3');\n",
              "          const dataTable =\n",
              "            await google.colab.kernel.invokeFunction('convertToInteractive',\n",
              "                                                     [key], {});\n",
              "          if (!dataTable) return;\n",
              "\n",
              "          const docLinkHtml = 'Like what you see? Visit the ' +\n",
              "            '<a target=\"_blank\" href=https://colab.research.google.com/notebooks/data_table.ipynb>data table notebook</a>'\n",
              "            + ' to learn more about interactive tables.';\n",
              "          element.innerHTML = '';\n",
              "          dataTable['output_type'] = 'display_data';\n",
              "          await google.colab.output.renderOutput(dataTable, element);\n",
              "          const docLink = document.createElement('div');\n",
              "          docLink.innerHTML = docLinkHtml;\n",
              "          element.appendChild(docLink);\n",
              "        }\n",
              "      </script>\n",
              "    </div>\n",
              "  </div>\n",
              "  "
            ]
          },
          "metadata": {},
          "execution_count": 15
        }
      ]
    },
    {
      "cell_type": "code",
      "source": [
        "y=df.iloc[:,-1]\n",
        "y.head()"
      ],
      "metadata": {
        "colab": {
          "base_uri": "https://localhost:8080/"
        },
        "id": "F0D9SfLwj-an",
        "outputId": "940514be-c97e-44c3-a603-0eb18e1f6705"
      },
      "execution_count": null,
      "outputs": [
        {
          "output_type": "execute_result",
          "data": {
            "text/plain": [
              "0    0\n",
              "1    0\n",
              "2    0\n",
              "3    0\n",
              "4    0\n",
              "Name: Revenue, dtype: int64"
            ]
          },
          "metadata": {},
          "execution_count": 16
        }
      ]
    },
    {
      "cell_type": "markdown",
      "source": [
        "**Data standardization.** Standardization of datasets is a common requirement for many machine learning estimators implemented in scikit-learn; they might behave badly if the individual features do not more or less look like standard normally distributed data.\n"
      ],
      "metadata": {
        "id": "3mJr1Cfgu4oN"
      }
    },
    {
      "cell_type": "code",
      "source": [
        "# data standardization\n",
        "# Scale the data to be between -1 and 1\n",
        "from sklearn.preprocessing import StandardScaler\n",
        "scaler = StandardScaler()\n",
        "scaler.fit(x)\n",
        "x = scaler.transform(x)"
      ],
      "metadata": {
        "id": "Qd9Ln_qxh2wa"
      },
      "execution_count": null,
      "outputs": []
    },
    {
      "cell_type": "markdown",
      "source": [
        "## **4. Splitting dataset into training set and testing set**\n",
        "\n",
        "Splitting dataset into training set and testing set for better generalization."
      ],
      "metadata": {
        "id": "cRqtBAu8u7N-"
      }
    },
    {
      "cell_type": "code",
      "source": [
        "# splitting dataset into training set and testing set\n",
        "from sklearn.model_selection import train_test_split\n",
        "x_train, x_test, y_train, y_test = train_test_split(x, y, test_size=0.2, random_state=1)"
      ],
      "metadata": {
        "id": "ZwTUngTykQDP"
      },
      "execution_count": null,
      "outputs": []
    },
    {
      "cell_type": "markdown",
      "source": [
        "## **5. Performing SVM using kernel**\n",
        "\n",
        "In this analysis we will use 3 types of kernels: linear, rbf, and polynomial kernels."
      ],
      "metadata": {
        "id": "2IJrXpITvC9K"
      }
    },
    {
      "cell_type": "code",
      "source": [
        "from sklearn.svm import SVC\n",
        "from sklearn import metrics"
      ],
      "metadata": {
        "id": "hpC8G5a4My46"
      },
      "execution_count": null,
      "outputs": []
    },
    {
      "cell_type": "code",
      "source": [
        "# Running SVM with default linear kernel\n",
        "svc=SVC(kernel='linear')\n",
        "svc.fit(x_train,y_train)\n",
        "y_pred=svc.predict(x_test)\n",
        "print('Accuracy Score:')\n",
        "print(metrics.accuracy_score(y_test,y_pred))"
      ],
      "metadata": {
        "id": "z8DVHiqwkrJC",
        "colab": {
          "base_uri": "https://localhost:8080/"
        },
        "outputId": "0c0649d6-a890-483b-ff7b-12cb067b0e7f"
      },
      "execution_count": null,
      "outputs": [
        {
          "output_type": "stream",
          "name": "stdout",
          "text": [
            "Accuracy Score:\n",
            "0.8921330089213301\n"
          ]
        }
      ]
    },
    {
      "cell_type": "code",
      "source": [
        "# Running SVM with default rbf kernel\n",
        "svc=SVC(kernel='rbf')\n",
        "svc.fit(x_train,y_train)\n",
        "y_pred=svc.predict(x_test)\n",
        "print('Accuracy Score:')\n",
        "print(metrics.accuracy_score(y_test,y_pred))"
      ],
      "metadata": {
        "id": "ZHnEanNzk9eN",
        "colab": {
          "base_uri": "https://localhost:8080/"
        },
        "outputId": "183a9f89-0d8b-47ea-9b79-5255fffc3d1a"
      },
      "execution_count": null,
      "outputs": [
        {
          "output_type": "stream",
          "name": "stdout",
          "text": [
            "Accuracy Score:\n",
            "0.8986212489862125\n"
          ]
        }
      ]
    },
    {
      "cell_type": "code",
      "source": [
        "# Running SVM with default polynomial kernel\n",
        "svc=SVC(kernel='poly')\n",
        "svc.fit(x_train,y_train)\n",
        "y_pred=svc.predict(x_test)\n",
        "print('Accuracy Score:')\n",
        "print(metrics.accuracy_score(y_test,y_pred))"
      ],
      "metadata": {
        "id": "6e83Cb0qlHka",
        "colab": {
          "base_uri": "https://localhost:8080/"
        },
        "outputId": "33e6069d-25b4-4fd9-f492-43de80c64d4f"
      },
      "execution_count": null,
      "outputs": [
        {
          "output_type": "stream",
          "name": "stdout",
          "text": [
            "Accuracy Score:\n",
            "0.8909164639091647\n"
          ]
        }
      ]
    },
    {
      "cell_type": "markdown",
      "source": [
        "From the results above, we got the accuracy score for: linear kernel= 89.21%, rbf kernel = 89.86%, and polynomial kernel = 89.09%. We can see that using the rbf kernel produces the highest accuracy score. The polynomial kernel is performing poorly. The reason behind this maybe it is overfitting the training dataset."
      ],
      "metadata": {
        "id": "TKWgIhYavL9a"
      }
    },
    {
      "cell_type": "markdown",
      "source": [
        "## **6. Performing SVM by taking K-Folds Cross Validation**\n",
        "\n",
        "Cross validation is a technique for assessing how the statistical analysis generalizes to an independent data set. It is a technique for evaluating machine learning models by training several models on subsets of the available input data and evaluating them on the complementary subset of the data."
      ],
      "metadata": {
        "id": "GKY9yHMnvQK-"
      }
    },
    {
      "cell_type": "code",
      "source": [
        "# Performing K-fold cross validation with different kernels\n",
        "from sklearn.model_selection import cross_val_score"
      ],
      "metadata": {
        "id": "CX9zifnQlRnH"
      },
      "execution_count": null,
      "outputs": []
    },
    {
      "cell_type": "code",
      "source": [
        "# CV on linear kernel\n",
        "svc=SVC(kernel='linear')\n",
        "scores = cross_val_score(svc, x, y, cv=10, scoring='accuracy') #cv is cross validation\n",
        "print(scores)\n",
        "print(scores.mean())"
      ],
      "metadata": {
        "id": "gaDcK3klm3KR",
        "colab": {
          "base_uri": "https://localhost:8080/"
        },
        "outputId": "fea92503-8c11-4756-8836-2e162a7775cb"
      },
      "execution_count": null,
      "outputs": [
        {
          "output_type": "stream",
          "name": "stdout",
          "text": [
            "[0.90592052 0.90592052 0.91484185 0.88240065 0.89375507 0.87185726\n",
            " 0.87104623 0.86618005 0.87429035 0.86374696]\n",
            "0.8849959448499594\n"
          ]
        }
      ]
    },
    {
      "cell_type": "code",
      "source": [
        "# CV on rbf kernel\n",
        "svc=SVC(kernel='rbf')\n",
        "scores = cross_val_score(svc, x, y, cv=10, scoring='accuracy') #cv is cross validation\n",
        "print(scores)\n",
        "print(scores.mean())"
      ],
      "metadata": {
        "id": "fmqrMGGInVV2",
        "colab": {
          "base_uri": "https://localhost:8080/"
        },
        "outputId": "857e6e0c-50ef-47e5-a1af-1d4802f984fd"
      },
      "execution_count": null,
      "outputs": [
        {
          "output_type": "stream",
          "name": "stdout",
          "text": [
            "[0.91403082 0.91321979 0.92295215 0.88564477 0.89618816 0.88158962\n",
            " 0.86699108 0.8702352  0.8783455  0.8702352 ]\n",
            "0.8899432278994321\n"
          ]
        }
      ]
    },
    {
      "cell_type": "code",
      "source": [
        "# CV on polynomial kernel\n",
        "svc=SVC(kernel='poly')\n",
        "scores = cross_val_score(svc, x, y, cv=10, scoring='accuracy') #cv is cross validation\n",
        "print(scores)\n",
        "print(scores.mean())"
      ],
      "metadata": {
        "id": "gusua-aCnZGU",
        "colab": {
          "base_uri": "https://localhost:8080/"
        },
        "outputId": "a666fff5-cbdf-4227-d1a0-fe980b491734"
      },
      "execution_count": null,
      "outputs": [
        {
          "output_type": "stream",
          "name": "stdout",
          "text": [
            "[0.90592052 0.89781022 0.90754258 0.87753447 0.88969992 0.87510138\n",
            " 0.86293593 0.86699108 0.87185726 0.8621249 ]\n",
            "0.8817518248175181\n"
          ]
        }
      ]
    },
    {
      "cell_type": "markdown",
      "source": [
        "From the results above, by performing K-fold cross validation with different kernels, we got the accuracy score for: linear kernel= 88.49%, rbf kernel = 88.99%, and polynomial kernel = 88.17%. We can see that using the rbf kernel with K=10 produces the highest accuracy score."
      ],
      "metadata": {
        "id": "xqtyBfEsvcSw"
      }
    },
    {
      "cell_type": "markdown",
      "source": [
        "## **7. Performing SVM by taking parameters**"
      ],
      "metadata": {
        "id": "am_e8_Omvdf8"
      }
    },
    {
      "cell_type": "markdown",
      "source": [
        "### **Using the C parameter in the linear kernel**"
      ],
      "metadata": {
        "id": "P6gTml2Gvg-f"
      }
    },
    {
      "cell_type": "code",
      "source": [
        "# linear kernel\n",
        "C_values=list(np.arange(0.1,1,0.1))\n",
        "acc_score=[]\n",
        "for c in C_values:\n",
        "    svc = SVC(kernel='linear', C=c)\n",
        "    scores = cross_val_score(svc, x, y, cv=10, scoring='accuracy')\n",
        "    acc_score.append(scores.mean())\n",
        "print(acc_score)    "
      ],
      "metadata": {
        "id": "2nAEtS9mn233",
        "colab": {
          "base_uri": "https://localhost:8080/"
        },
        "outputId": "7fa02569-602c-428b-ae9b-167e310e0eec"
      },
      "execution_count": null,
      "outputs": [
        {
          "output_type": "stream",
          "name": "stdout",
          "text": [
            "[0.8847526358475264, 0.8846715328467154, 0.8847526358475264, 0.8848337388483374, 0.8847526358475264, 0.8848337388483374, 0.8849959448499594, 0.8849148418491483, 0.8849959448499594]\n"
          ]
        }
      ]
    },
    {
      "cell_type": "code",
      "source": [
        "import matplotlib.pyplot as plt\n",
        "%matplotlib inline\n",
        "\n",
        "\n",
        "C_values=list(np.arange(0.1,1,0.1))\n",
        "# plot the value of C for SVM (x-axis) versus the cross-validated accuracy (y-axis)\n",
        "plt.plot(C_values,acc_score)\n",
        "plt.xticks(np.arange(0.1,1,0.1))\n",
        "plt.xlabel('Value of C for SVC')\n",
        "plt.ylabel('Cross-Validated Accuracy')"
      ],
      "metadata": {
        "id": "631WTnR9rGxf",
        "colab": {
          "base_uri": "https://localhost:8080/",
          "height": 296
        },
        "outputId": "d7d2fa8b-9df3-40bf-a9ec-8b7de98575c2"
      },
      "execution_count": null,
      "outputs": [
        {
          "output_type": "execute_result",
          "data": {
            "text/plain": [
              "Text(0, 0.5, 'Cross-Validated Accuracy')"
            ]
          },
          "metadata": {},
          "execution_count": 29
        },
        {
          "output_type": "display_data",
          "data": {
            "text/plain": [
              "<Figure size 432x288 with 1 Axes>"
            ],
            "image/png": "[encoded data removed]"
          },
          "metadata": {
            "needs_background": "light"
          }
        }
      ]
    },
    {
      "cell_type": "markdown",
      "source": [
        "From the plot above, we can see that accuracy has been close to 88.5% for C=0.69. Thus C= 0.69 is the best parameter."
      ],
      "metadata": {
        "id": "3f2Wo8Csvnum"
      }
    },
    {
      "cell_type": "markdown",
      "source": [
        "### **Using the gamma parameter in the rbf kernel**"
      ],
      "metadata": {
        "id": "K_ucIZgrvsDx"
      }
    },
    {
      "cell_type": "code",
      "source": [
        "gamma_range=[0.0001,0.001,0.01,0.1]\n",
        "acc_score=[]\n",
        "for g in gamma_range:\n",
        "    svc = SVC(kernel='rbf', gamma=g)\n",
        "    scores = cross_val_score(svc, x, y, cv=10, scoring='accuracy')\n",
        "    acc_score.append(scores.mean())\n",
        "print(acc_score)    "
      ],
      "metadata": {
        "id": "rl8mSXYvoFab",
        "colab": {
          "base_uri": "https://localhost:8080/"
        },
        "outputId": "3efac4da-7253-425c-dbbc-f2c61a2d3c97"
      },
      "execution_count": null,
      "outputs": [
        {
          "output_type": "stream",
          "name": "stdout",
          "text": [
            "[0.8548256285482564, 0.8824817518248175, 0.8894566098945662, 0.8897810218978102]\n"
          ]
        }
      ]
    },
    {
      "cell_type": "code",
      "source": [
        "import matplotlib.pyplot as plt\n",
        "%matplotlib inline\n",
        "\n",
        "gamma_range=[0.0001,0.001,0.01,0.1]\n",
        "\n",
        "# plot the value of C for SVM (x-axis) versus the cross-validated accuracy (y-axis)\n",
        "plt.plot(gamma_range,acc_score)\n",
        "plt.xlabel('Value of gamma for SVC ')\n",
        "plt.ylabel('Cross-Validated Accuracy')"
      ],
      "metadata": {
        "id": "ZzNfHJKl8Jpe",
        "colab": {
          "base_uri": "https://localhost:8080/",
          "height": 296
        },
        "outputId": "311740dd-0726-4824-9d12-01ac2c730957"
      },
      "execution_count": null,
      "outputs": [
        {
          "output_type": "execute_result",
          "data": {
            "text/plain": [
              "Text(0, 0.5, 'Cross-Validated Accuracy')"
            ]
          },
          "metadata": {},
          "execution_count": 31
        },
        {
          "output_type": "display_data",
          "data": {
            "text/plain": [
              "<Figure size 432x288 with 1 Axes>"
            ],
            "image/png": "[encoded data removed]"
          },
          "metadata": {
            "needs_background": "light"
          }
        }
      ]
    },
    {
      "cell_type": "markdown",
      "source": [
        "From the plot above, the score increases steadily from 0.01 to 0.1 and reaches its peak at 0.10 with an accuracy score close to 89%. Thus gamma = 0.1 is the best parameter."
      ],
      "metadata": {
        "id": "QC-Lq7A7vwEo"
      }
    },
    {
      "cell_type": "markdown",
      "source": [
        "### **Using the degree parameter in the polynomial kernel**"
      ],
      "metadata": {
        "id": "P6cGRZ7jvyM-"
      }
    },
    {
      "cell_type": "code",
      "source": [
        "degree=[2,3,4,5,6]\n",
        "acc_score=[]\n",
        "for d in degree:\n",
        "    svc = SVC(kernel='poly', degree=d)\n",
        "    scores = cross_val_score(svc, x, y, cv=10, scoring='accuracy')\n",
        "    acc_score.append(scores.mean())\n",
        "print(acc_score)  "
      ],
      "metadata": {
        "id": "vZ_aidxaoSeE",
        "colab": {
          "base_uri": "https://localhost:8080/"
        },
        "outputId": "34b75d79-40f8-4ade-b732-e34f50db3175"
      },
      "execution_count": null,
      "outputs": [
        {
          "output_type": "stream",
          "name": "stdout",
          "text": [
            "[0.8788321167883211, 0.8817518248175181, 0.8759124087591241, 0.8720194647201946, 0.8683698296836984]\n"
          ]
        }
      ]
    },
    {
      "cell_type": "code",
      "source": [
        "import matplotlib.pyplot as plt\n",
        "%matplotlib inline\n",
        "\n",
        "degree=[2,3,4,5,6]\n",
        "\n",
        "# plot the value of C for SVM (x-axis) versus the cross-validated accuracy (y-axis)\n",
        "plt.plot(degree,acc_score)\n",
        "plt.xlabel('degrees for SVC ')\n",
        "plt.ylabel('Cross-Validated Accuracy')"
      ],
      "metadata": {
        "id": "e4xP2h3OAFTn",
        "colab": {
          "base_uri": "https://localhost:8080/",
          "height": 296
        },
        "outputId": "efe1337d-097c-4bd1-ae9c-d6f93a4e52b1"
      },
      "execution_count": null,
      "outputs": [
        {
          "output_type": "execute_result",
          "data": {
            "text/plain": [
              "Text(0, 0.5, 'Cross-Validated Accuracy')"
            ]
          },
          "metadata": {},
          "execution_count": 33
        },
        {
          "output_type": "display_data",
          "data": {
            "text/plain": [
              "<Figure size 432x288 with 1 Axes>"
            ],
            "image/png": "[encoded data removed]"
          },
          "metadata": {
            "needs_background": "light"
          }
        }
      ]
    },
    {
      "cell_type": "markdown",
      "source": [
        "From the plot above, the score reaches its peak in the 3rd degree with an accuracy score close to 88.2% and then decreases drastically. Thus degree = 3 is the best parameter."
      ],
      "metadata": {
        "id": "Wtk4zPWOv1ry"
      }
    },
    {
      "cell_type": "markdown",
      "source": [
        "### **Comparing models with and without using K-folds cross validation and parameters**"
      ],
      "metadata": {
        "id": "RFSDC0GHwJrG"
      }
    },
    {
      "cell_type": "code",
      "source": [
        "from sklearn.svm import SVC\n",
        "svc= SVC(kernel='linear',C=0.69)\n",
        "svc.fit(x_train,y_train)\n",
        "y_predict=svc.predict(x_test)\n",
        "accuracy_score= metrics.accuracy_score(y_test,y_predict)\n",
        "print(accuracy_score)"
      ],
      "metadata": {
        "id": "2hOuOEXMAHSu",
        "colab": {
          "base_uri": "https://localhost:8080/"
        },
        "outputId": "3fa879b3-3274-4e69-99b7-ecc11a947d53"
      },
      "execution_count": null,
      "outputs": [
        {
          "output_type": "stream",
          "name": "stdout",
          "text": [
            "0.8921330089213301\n"
          ]
        }
      ]
    },
    {
      "cell_type": "code",
      "source": [
        "svc=SVC(kernel='linear',C=0.69)\n",
        "scores = cross_val_score(svc, x, y, cv=10, scoring='accuracy')\n",
        "print(scores)\n",
        "print(scores.mean())"
      ],
      "metadata": {
        "id": "vmOOWQEQFOAN",
        "colab": {
          "base_uri": "https://localhost:8080/"
        },
        "outputId": "184867dc-2945-44b2-a820-4af45d5cc1e7"
      },
      "execution_count": null,
      "outputs": [
        {
          "output_type": "stream",
          "name": "stdout",
          "text": [
            "[0.90592052 0.90592052 0.91484185 0.88240065 0.89294404 0.87185726\n",
            " 0.87104623 0.86618005 0.87429035 0.86374696]\n",
            "0.8849148418491483\n"
          ]
        }
      ]
    },
    {
      "cell_type": "code",
      "source": [
        "from sklearn.svm import SVC\n",
        "svc= SVC(kernel='rbf',gamma=0.1)\n",
        "svc.fit(x_train,y_train)\n",
        "y_predict=svc.predict(x_test)\n",
        "metrics.accuracy_score(y_test,y_predict)"
      ],
      "metadata": {
        "id": "Rmbop1LEFbLa",
        "colab": {
          "base_uri": "https://localhost:8080/"
        },
        "outputId": "19085d79-1d67-42c1-d7e5-a236875ef179"
      },
      "execution_count": null,
      "outputs": [
        {
          "output_type": "execute_result",
          "data": {
            "text/plain": [
              "0.8994322789943228"
            ]
          },
          "metadata": {},
          "execution_count": 36
        }
      ]
    },
    {
      "cell_type": "code",
      "source": [
        "svc=SVC(kernel='rbf',gamma=0.1)\n",
        "scores = cross_val_score(svc, x, y, cv=10, scoring='accuracy')\n",
        "print(scores)\n",
        "print(scores.mean())"
      ],
      "metadata": {
        "id": "NKbjj5qYFjW2",
        "colab": {
          "base_uri": "https://localhost:8080/"
        },
        "outputId": "5458d563-7855-42f8-9769-e311216942c1"
      },
      "execution_count": null,
      "outputs": [
        {
          "output_type": "stream",
          "name": "stdout",
          "text": [
            "[0.91484185 0.91565288 0.91970803 0.88564477 0.89618816 0.88158962\n",
            " 0.8702352  0.86780211 0.87510138 0.87104623]\n",
            "0.8897810218978102\n"
          ]
        }
      ]
    },
    {
      "cell_type": "code",
      "source": [
        "from sklearn.svm import SVC\n",
        "svc= SVC(kernel='poly',degree=3)\n",
        "svc.fit(x_train,y_train)\n",
        "y_predict=svc.predict(x_test)\n",
        "accuracy_score= metrics.accuracy_score(y_test,y_predict)\n",
        "print(accuracy_score)"
      ],
      "metadata": {
        "id": "id5r-CoSFrx_",
        "colab": {
          "base_uri": "https://localhost:8080/"
        },
        "outputId": "82910912-696b-429e-dca8-b66723bbdafe"
      },
      "execution_count": null,
      "outputs": [
        {
          "output_type": "stream",
          "name": "stdout",
          "text": [
            "0.8909164639091647\n"
          ]
        }
      ]
    },
    {
      "cell_type": "code",
      "source": [
        "svc=SVC(kernel='poly',degree=3)\n",
        "scores = cross_val_score(svc, x, y, cv=10, scoring='accuracy')\n",
        "print(scores)\n",
        "print(scores.mean())"
      ],
      "metadata": {
        "id": "MUgxdxPOFv80",
        "colab": {
          "base_uri": "https://localhost:8080/"
        },
        "outputId": "f73434d7-dc92-4db3-d82b-f782831468dc"
      },
      "execution_count": null,
      "outputs": [
        {
          "output_type": "stream",
          "name": "stdout",
          "text": [
            "[0.90592052 0.89781022 0.90754258 0.87753447 0.88969992 0.87510138\n",
            " 0.86293593 0.86699108 0.87185726 0.8621249 ]\n",
            "0.8817518248175181\n"
          ]
        }
      ]
    },
    {
      "cell_type": "markdown",
      "source": [
        "To summarize the results above, we can see that the accuracy score obtained without using K-folds cross validation and optimized parameters have slightly better results. But it may fail to generalize the unseen data. Hence it is advisable to perform K-fold cross validation where all the data is covered so it may predict unseen data well."
      ],
      "metadata": {
        "id": "LP_DpYIswQ0F"
      }
    },
    {
      "cell_type": "markdown",
      "source": [
        "### **Grid search technique**"
      ],
      "metadata": {
        "id": "uX3FyEZ4wUhq"
      }
    },
    {
      "cell_type": "code",
      "source": [
        "# Let us perform Grid search technique to find the best parameter\n",
        "from sklearn.svm import SVC\n",
        "svm_model= SVC()\n",
        "tuned_parameters = {\n",
        " 'gamma': [0.0001,0.001,0.01,0.1], 'kernel': ['rbf']}"
      ],
      "metadata": {
        "id": "54oPhJf2F0vh"
      },
      "execution_count": null,
      "outputs": []
    },
    {
      "cell_type": "code",
      "source": [
        "from sklearn.model_selection import GridSearchCV\n",
        "model_svm = GridSearchCV(svm_model, tuned_parameters,cv=10,scoring='accuracy')"
      ],
      "metadata": {
        "id": "bBrQmHB7KXsQ"
      },
      "execution_count": null,
      "outputs": []
    },
    {
      "cell_type": "code",
      "source": [
        "model_svm.fit(x_train, y_train)\n",
        "print(model_svm.best_score_)"
      ],
      "metadata": {
        "id": "g9CntDqaKmMx",
        "colab": {
          "base_uri": "https://localhost:8080/"
        },
        "outputId": "5f4ad189-ae53-43d1-f68a-d1edea5971ab"
      },
      "execution_count": null,
      "outputs": [
        {
          "output_type": "stream",
          "name": "stdout",
          "text": [
            "0.8901070919930701\n"
          ]
        }
      ]
    },
    {
      "cell_type": "code",
      "source": [
        "print(model_svm.best_params_)"
      ],
      "metadata": {
        "id": "wConjDFVKr4y",
        "colab": {
          "base_uri": "https://localhost:8080/"
        },
        "outputId": "8f6a55b8-52a7-4639-cdcc-faafaad88668"
      },
      "execution_count": null,
      "outputs": [
        {
          "output_type": "stream",
          "name": "stdout",
          "text": [
            "{'gamma': 0.1, 'kernel': 'rbf'}\n"
          ]
        }
      ]
    },
    {
      "cell_type": "code",
      "source": [
        "y_pred= model_svm.predict(x_test)\n",
        "print(metrics.accuracy_score(y_pred,y_test))"
      ],
      "metadata": {
        "id": "W0BCJbmqKt3S",
        "colab": {
          "base_uri": "https://localhost:8080/"
        },
        "outputId": "4431bc1c-07f1-464f-8b4c-e7c2ce75e90a"
      },
      "execution_count": null,
      "outputs": [
        {
          "output_type": "stream",
          "name": "stdout",
          "text": [
            "0.8994322789943228\n"
          ]
        }
      ]
    },
    {
      "cell_type": "markdown",
      "source": [
        "We got maximum accuracy by using the rbf kernel with gamma = 0.1 and K=10. The accuracy of the score is 89.94%. Based on the SVM analysis above, we can conclude that the accuracy of our classification model is very good. Our model does an excellent job of predicting class labels."
      ],
      "metadata": {
        "id": "0SUeyDh2wcmC"
      }
    },
    {
      "cell_type": "markdown",
      "source": [
        "## **8. Confusion Matrix**"
      ],
      "metadata": {
        "id": "cquR0xb5wd99"
      }
    },
    {
      "cell_type": "code",
      "source": [
        "# Print the Confusion Matrix and slice it into four pieces\n",
        "\n",
        "from sklearn.metrics import confusion_matrix\n",
        "cm = confusion_matrix(y_test, y_pred)\n",
        "\n",
        "print('Confusion matrix\\n\\n', cm)\n",
        "print('\\nTrue Positives(TP) = ', cm[0,0])\n",
        "print('\\nTrue Negatives(TN) = ', cm[1,1])\n",
        "print('\\nFalse Positives(FP) = ', cm[0,1])\n",
        "print('\\nFalse Negatives(FN) = ', cm[1,0])"
      ],
      "metadata": {
        "id": "rNyUW13sK8BS",
        "colab": {
          "base_uri": "https://localhost:8080/"
        },
        "outputId": "5fefad08-95e0-46e7-b86c-e8076c2b250f"
      },
      "execution_count": null,
      "outputs": [
        {
          "output_type": "stream",
          "name": "stdout",
          "text": [
            "Confusion matrix\n",
            "\n",
            " [[2049   66]\n",
            " [ 182  169]]\n",
            "\n",
            "True Positives(TP) =  2049\n",
            "\n",
            "True Negatives(TN) =  169\n",
            "\n",
            "False Positives(FP) =  66\n",
            "\n",
            "False Negatives(FN) =  182\n"
          ]
        }
      ]
    },
    {
      "cell_type": "code",
      "source": [
        "# visualize confusion matrix with seaborn heatmap\n",
        "\n",
        "cm_matrix = pd.DataFrame(data=cm, columns=['Actual Positive:1', 'Actual Negative:0'], \n",
        "                                 index=['Predict Positive:1', 'Predict Negative:0'])\n",
        "\n",
        "sns.heatmap(cm_matrix, annot=True, fmt='d', cmap='YlGnBu')"
      ],
      "metadata": {
        "id": "58AB0bFcLFcm",
        "colab": {
          "base_uri": "https://localhost:8080/",
          "height": 282
        },
        "outputId": "9560e9e8-6f1b-4dae-ebe3-55d5a1902f8c"
      },
      "execution_count": null,
      "outputs": [
        {
          "output_type": "execute_result",
          "data": {
            "text/plain": [
              "<matplotlib.axes._subplots.AxesSubplot at 0x7f2404663a90>"
            ]
          },
          "metadata": {},
          "execution_count": 46
        },
        {
          "output_type": "display_data",
          "data": {
            "text/plain": [
              "<Figure size 432x288 with 2 Axes>"
            ],
            "image/png": "[encoded data removed]"
          },
          "metadata": {
            "needs_background": "light"
          }
        }
      ]
    },
    {
      "cell_type": "code",
      "source": [
        "from sklearn.metrics import classification_report\n",
        "\n",
        "print(classification_report(y_test, y_pred))"
      ],
      "metadata": {
        "id": "jtGnvwDuLKVB",
        "colab": {
          "base_uri": "https://localhost:8080/"
        },
        "outputId": "e580b22f-64f4-4da9-a54b-994d6f3e4a2a"
      },
      "execution_count": null,
      "outputs": [
        {
          "output_type": "stream",
          "name": "stdout",
          "text": [
            "              precision    recall  f1-score   support\n",
            "\n",
            "           0       0.92      0.97      0.94      2115\n",
            "           1       0.72      0.48      0.58       351\n",
            "\n",
            "    accuracy                           0.90      2466\n",
            "   macro avg       0.82      0.73      0.76      2466\n",
            "weighted avg       0.89      0.90      0.89      2466\n",
            "\n"
          ]
        }
      ]
    },
    {
      "cell_type": "code",
      "source": [
        "TP = cm[0,0]\n",
        "TN = cm[1,1]\n",
        "FP = cm[0,1]\n",
        "FN = cm[1,0]\n",
        "\n",
        "# print classification accuracy\n",
        "\n",
        "classification_accuracy = (TP + TN) / float(TP + TN + FP + FN)\n",
        "\n",
        "print('Classification accuracy : {0:0.4f}'.format(classification_accuracy))"
      ],
      "metadata": {
        "id": "yTpx0fB3LPCp",
        "colab": {
          "base_uri": "https://localhost:8080/"
        },
        "outputId": "c9ec5d98-7d48-4bab-cfd6-feab72920966"
      },
      "execution_count": null,
      "outputs": [
        {
          "output_type": "stream",
          "name": "stdout",
          "text": [
            "Classification accuracy : 0.8994\n"
          ]
        }
      ]
    },
    {
      "cell_type": "markdown",
      "source": [
        "Based on the prediction results we can conclude that shoppers who do not intend to buy the product are correctly predicted not to buy the product on the ABC online store web page as many as 2,049 shoppers. So that the class recall value is equal to 97% with the accuracy of the score is 89.94%."
      ],
      "metadata": {
        "id": "qXpgFQBFwlRj"
      }
    }
  ]
}